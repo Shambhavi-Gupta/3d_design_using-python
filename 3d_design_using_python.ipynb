{
  "nbformat": 4,
  "nbformat_minor": 0,
  "metadata": {
    "colab": {
      "name": "3d_design_using-python.ipynb",
      "provenance": [],
      "authorship_tag": "ABX9TyNao7yMs0nqsXJ/YpKOVUaW",
      "include_colab_link": true
    },
    "kernelspec": {
      "name": "python3",
      "display_name": "Python 3"
    },
    "language_info": {
      "name": "python"
    }
  },
  "cells": [
    {
      "cell_type": "markdown",
      "metadata": {
        "id": "view-in-github",
        "colab_type": "text"
      },
      "source": [
        "<a href=\"https://colab.research.google.com/github/Shambhavi-Gupta/3d_design_using-python/blob/main/3d_design_using_python.ipynb\" target=\"_parent\"><img src=\"https://colab.research.google.com/assets/colab-badge.svg\" alt=\"Open In Colab\"/></a>"
      ]
    },
    {
      "cell_type": "code",
      "metadata": {
        "id": "sg_P8xlUpCy2"
      },
      "source": [
        "#pip install vpython\n",
        "from vpython import *\n",
        "canvas(background = color.yellow)\n",
        "circle_1 = ring(radius=0.6, thickness=0.26, color=vector(400,200,300))\n",
        "circle_2 = ring(radius=0.66, thickness=0.26, color=vector(0.4,0.2,0.9))\n",
        "radii = 0\n",
        "while True:\n",
        "    rate(10)\n",
        "    circle_1.pos = vector(3*cos(radii),sin(radii),0)\n",
        "    circle_2.pos = vector(3*cos(radii),sin(radii),0)\n",
        "    radii = radii + 0.03"
      ],
      "execution_count": null,
      "outputs": []
    }
  ]
}